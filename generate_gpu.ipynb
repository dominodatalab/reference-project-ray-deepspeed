{
 "cells": [
  {
   "cell_type": "code",
   "execution_count": 1,
   "id": "d757d599-10b7-41dd-83ba-b0e975c8863e",
   "metadata": {
    "tags": []
   },
   "outputs": [
    {
     "name": "stdout",
     "output_type": "stream",
     "text": [
      "\n",
      "===================================BUG REPORT===================================\n",
      "Welcome to bitsandbytes. For bug reports, please run\n",
      "\n",
      "python -m bitsandbytes\n",
      "\n",
      " and submit this information together with your error trace to: https://github.com/TimDettmers/bitsandbytes/issues\n",
      "================================================================================\n",
      "bin /opt/conda/lib/python3.9/site-packages/bitsandbytes/libbitsandbytes_cpu.so\n",
      "/opt/conda/lib/python3.9/site-packages/bitsandbytes/libbitsandbytes_cpu.so: undefined symbol: cadam32bit_grad_fp32\n",
      "CUDA SETUP: Loading binary /opt/conda/lib/python3.9/site-packages/bitsandbytes/libbitsandbytes_cpu.so...\n"
     ]
    },
    {
     "name": "stderr",
     "output_type": "stream",
     "text": [
      "/opt/conda/lib/python3.9/site-packages/bitsandbytes/cextension.py:34: UserWarning: The installed version of bitsandbytes was compiled without GPU support. 8-bit optimizers, 8-bit multiplication, and GPU quantization are unavailable.\n",
      "  warn(\"The installed version of bitsandbytes was compiled without GPU support. \"\n"
     ]
    }
   ],
   "source": [
    "from ray.air import session, Checkpoint\n",
    "import torch\n",
    "from ray.train.huggingface import TransformersPredictor\n",
    "import pandas as pd"
   ]
  },
  {
   "cell_type": "code",
   "execution_count": 2,
   "id": "496669e6-95d3-48f9-840f-46d0a92d383a",
   "metadata": {
    "tags": []
   },
   "outputs": [],
   "source": [
    "cpoint=Checkpoint.from_directory(\"/domino/datasets/local/Ray_Deepspeed_GPTJ/TransformersTrainer_2023-07-28_19-53-53/TransformersTrainer_27302_00000_0_2023-07-28_19-53-53/checkpoint_000000\")"
   ]
  },
  {
   "cell_type": "code",
   "execution_count": 3,
   "id": "7a1f92d0-baef-4e12-81f3-256f5572f94d",
   "metadata": {
    "tags": []
   },
   "outputs": [],
   "source": [
    "cpoint.set_preprocessor(None)"
   ]
  },
  {
   "cell_type": "code",
   "execution_count": 4,
   "id": "73712486-2c7c-4428-a57c-1473c6bdf9e2",
   "metadata": {
    "tags": []
   },
   "outputs": [
    {
     "name": "stderr",
     "output_type": "stream",
     "text": [
      "/opt/conda/lib/python3.9/site-packages/transformers/generation/utils.py:1186: UserWarning: You have modified the pretrained model configuration to control generation. This is a deprecated strategy to control generation and will be removed soon, in a future version. Please use a generation configuration file (see https://huggingface.co/docs/transformers/main_classes/text_generation)\n",
      "  warnings.warn(\n",
      "Setting `pad_token_id` to `eos_token_id`:50256 for open-end generation.\n",
      "Setting `pad_token_id` to `eos_token_id`:50256 for open-end generation.\n",
      "Setting `pad_token_id` to `eos_token_id`:50256 for open-end generation.\n"
     ]
    }
   ],
   "source": [
    "torch.set_default_dtype(torch.float64)\n",
    "\n",
    "prompts = pd.DataFrame([\"Romeo and Juliet\", \"Romeo\", \"Juliet\"], columns=[\"text\"])\n",
    "use_gpu = True\n",
    "\n",
    "# Predict on the head node.\n",
    "predictor = TransformersPredictor.from_checkpoint(\n",
    "    checkpoint=cpoint,\n",
    "    task=\"text-generation\",\n",
    "    # torch_dtype=torch.float16 if use_gpu else None,\n",
    "    device_map=\"auto\",\n",
    "    use_gpu=use_gpu,\n",
    ")\n",
    "prediction = predictor.predict(\n",
    "    prompts,\n",
    "    do_sample=True,\n",
    "    temperature=0.9,\n",
    "    min_length=32,\n",
    "    max_length=128,\n",
    ")"
   ]
  },
  {
   "cell_type": "code",
   "execution_count": 5,
   "id": "af1cbafa-c757-488e-905d-256ce41e3a78",
   "metadata": {
    "tags": []
   },
   "outputs": [
    {
     "data": {
      "text/html": [
       "<div>\n",
       "<style scoped>\n",
       "    .dataframe tbody tr th:only-of-type {\n",
       "        vertical-align: middle;\n",
       "    }\n",
       "\n",
       "    .dataframe tbody tr th {\n",
       "        vertical-align: top;\n",
       "    }\n",
       "\n",
       "    .dataframe thead th {\n",
       "        text-align: right;\n",
       "    }\n",
       "</style>\n",
       "<table border=\"1\" class=\"dataframe\">\n",
       "  <thead>\n",
       "    <tr style=\"text-align: right;\">\n",
       "      <th></th>\n",
       "      <th>generated_text</th>\n",
       "    </tr>\n",
       "  </thead>\n",
       "  <tbody>\n",
       "    <tr>\n",
       "      <th>0</th>\n",
       "      <td>Romeo and Juliet, p. 365, 370, 376, 377, 379, ...</td>\n",
       "    </tr>\n",
       "    <tr>\n",
       "      <th>1</th>\n",
       "      <td>Romeo and Juliet.\\n\\n4. An apothegm which I he...</td>\n",
       "    </tr>\n",
       "    <tr>\n",
       "      <th>2</th>\n",
       "      <td>Juliet, the moon, the comet's head, a star, th...</td>\n",
       "    </tr>\n",
       "  </tbody>\n",
       "</table>\n",
       "</div>"
      ],
      "text/plain": [
       "                                      generated_text\n",
       "0  Romeo and Juliet, p. 365, 370, 376, 377, 379, ...\n",
       "1  Romeo and Juliet.\\n\\n4. An apothegm which I he...\n",
       "2  Juliet, the moon, the comet's head, a star, th..."
      ]
     },
     "execution_count": 5,
     "metadata": {},
     "output_type": "execute_result"
    }
   ],
   "source": [
    "prediction"
   ]
  },
  {
   "cell_type": "code",
   "execution_count": 18,
   "id": "819ee86a-f9b5-48f4-9d4d-76e46f90b6cd",
   "metadata": {
    "tags": []
   },
   "outputs": [
    {
     "data": {
      "text/plain": [
       "'Romeo and Juliet, p. 365, 370, 376, 377, 379, 384, 390, 393, 395, 396, 398, 399, 400, 401'"
      ]
     },
     "execution_count": 18,
     "metadata": {},
     "output_type": "execute_result"
    }
   ],
   "source": [
    "prediction['generated_text'][0]"
   ]
  },
  {
   "cell_type": "code",
   "execution_count": 15,
   "id": "0100e78a-5948-4569-bdeb-1b4ace67b3be",
   "metadata": {},
   "outputs": [
    {
     "data": {
      "text/plain": [
       "'Romeo and Juliet.\\n\\n4. An apothegm which I heard a French author, M. de la Hire, the author of a work entitled Dictes et Controverses de la Science Latine,\" say, that the motion of the sun in the syzygies is one fourth part of the motion in the quadratures; and from thence we may infer with truth the motion of Saturn to be as the motion of Jupiter. The error here consisted in not regarding the excess of the motion in the syzygies above that in the quadratures, as but part of the excess above the'"
      ]
     },
     "execution_count": 15,
     "metadata": {},
     "output_type": "execute_result"
    }
   ],
   "source": [
    "prediction['generated_text'][1]"
   ]
  },
  {
   "cell_type": "code",
   "execution_count": 16,
   "id": "28fe3e76-ffce-46a9-9599-26e4170fc2ed",
   "metadata": {
    "tags": []
   },
   "outputs": [
    {
     "data": {
      "text/plain": [
       "\"Juliet, the moon, the comet's head, a star, the planet Jupiter, the star of Aries, the star of Taurus, a star above the star of Aries, a star below the star of Taurus, and a star in the west, 815\""
      ]
     },
     "execution_count": 16,
     "metadata": {},
     "output_type": "execute_result"
    }
   ],
   "source": [
    "prediction['generated_text'][2]"
   ]
  }
 ],
 "metadata": {
  "kernelspec": {
   "display_name": "Python 3 (ipykernel)",
   "language": "python",
   "name": "python3"
  },
  "language_info": {
   "codemirror_mode": {
    "name": "ipython",
    "version": 3
   },
   "file_extension": ".py",
   "mimetype": "text/x-python",
   "name": "python",
   "nbconvert_exporter": "python",
   "pygments_lexer": "ipython3",
   "version": "3.9.16"
  }
 },
 "nbformat": 4,
 "nbformat_minor": 5
}
