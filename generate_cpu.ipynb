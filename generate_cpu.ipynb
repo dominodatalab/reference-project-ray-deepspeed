{
 "cells": [
  {
   "cell_type": "code",
   "execution_count": 1,
   "id": "d757d599-10b7-41dd-83ba-b0e975c8863e",
   "metadata": {
    "tags": []
   },
   "outputs": [
    {
     "name": "stdout",
     "output_type": "stream",
     "text": [
      "\n",
      "===================================BUG REPORT===================================\n",
      "Welcome to bitsandbytes. For bug reports, please run\n",
      "\n",
      "python -m bitsandbytes\n",
      "\n",
      " and submit this information together with your error trace to: https://github.com/TimDettmers/bitsandbytes/issues\n",
      "================================================================================\n",
      "bin /opt/conda/lib/python3.9/site-packages/bitsandbytes/libbitsandbytes_cpu.so\n",
      "/opt/conda/lib/python3.9/site-packages/bitsandbytes/libbitsandbytes_cpu.so: undefined symbol: cadam32bit_grad_fp32\n",
      "CUDA SETUP: Loading binary /opt/conda/lib/python3.9/site-packages/bitsandbytes/libbitsandbytes_cpu.so...\n"
     ]
    },
    {
     "name": "stderr",
     "output_type": "stream",
     "text": [
      "/opt/conda/lib/python3.9/site-packages/bitsandbytes/cextension.py:34: UserWarning: The installed version of bitsandbytes was compiled without GPU support. 8-bit optimizers, 8-bit multiplication, and GPU quantization are unavailable.\n",
      "  warn(\"The installed version of bitsandbytes was compiled without GPU support. \"\n"
     ]
    }
   ],
   "source": [
    "from ray.air import session, Checkpoint\n",
    "import torch\n",
    "from ray.train.huggingface import TransformersPredictor\n",
    "import pandas as pd"
   ]
  },
  {
   "cell_type": "code",
   "execution_count": 2,
   "id": "496669e6-95d3-48f9-840f-46d0a92d383a",
   "metadata": {
    "tags": []
   },
   "outputs": [],
   "source": [
    "cpoint=Checkpoint.from_directory(\"/domino/datasets/local/Ray_Deepspeed_GPTJ/TransformersTrainer_2023-07-28_19-53-53/TransformersTrainer_27302_00000_0_2023-07-28_19-53-53/checkpoint_000000\")"
   ]
  },
  {
   "cell_type": "code",
   "execution_count": 3,
   "id": "7a1f92d0-baef-4e12-81f3-256f5572f94d",
   "metadata": {
    "tags": []
   },
   "outputs": [],
   "source": [
    "cpoint.set_preprocessor(None)"
   ]
  },
  {
   "cell_type": "code",
   "execution_count": 4,
   "id": "73712486-2c7c-4428-a57c-1473c6bdf9e2",
   "metadata": {
    "tags": []
   },
   "outputs": [
    {
     "name": "stderr",
     "output_type": "stream",
     "text": [
      "You have `use_gpu` as False but there are 4 GPUs detected on host where prediction will only use CPU. Please consider explicitly setting `TransformersPredictor(use_gpu=True)` or `batch_predictor.predict(ds, num_gpus_per_worker=1)` to enable GPU prediction. Ignore if you have set `device` or `device_map` arguments in the `pipeline` manually.\n",
      "/opt/conda/lib/python3.9/site-packages/transformers/generation/utils.py:1186: UserWarning: You have modified the pretrained model configuration to control generation. This is a deprecated strategy to control generation and will be removed soon, in a future version. Please use a generation configuration file (see https://huggingface.co/docs/transformers/main_classes/text_generation)\n",
      "  warnings.warn(\n",
      "Setting `pad_token_id` to `eos_token_id`:50256 for open-end generation.\n",
      "Setting `pad_token_id` to `eos_token_id`:50256 for open-end generation.\n",
      "Setting `pad_token_id` to `eos_token_id`:50256 for open-end generation.\n"
     ]
    }
   ],
   "source": [
    "torch.set_default_dtype(torch.float64)\n",
    "\n",
    "prompts = pd.DataFrame([\"Romeo and Juliet\", \"Romeo\", \"Juliet\"], columns=[\"text\"])\n",
    "use_gpu = False\n",
    "\n",
    "# Predict on the head node.\n",
    "predictor = TransformersPredictor.from_checkpoint(\n",
    "    checkpoint=cpoint,\n",
    "    task=\"text-generation\",\n",
    "    torch_dtype=torch.float16 if use_gpu else None,\n",
    "    device_map=\"auto\",\n",
    "    use_gpu=use_gpu,\n",
    ")\n",
    "prediction = predictor.predict(\n",
    "    prompts,\n",
    "    do_sample=True,\n",
    "    temperature=0.9,\n",
    "    min_length=32,\n",
    "    max_length=128,\n",
    ")"
   ]
  },
  {
   "cell_type": "code",
   "execution_count": 5,
   "id": "af1cbafa-c757-488e-905d-256ce41e3a78",
   "metadata": {
    "tags": []
   },
   "outputs": [
    {
     "data": {
      "text/html": [
       "<div>\n",
       "<style scoped>\n",
       "    .dataframe tbody tr th:only-of-type {\n",
       "        vertical-align: middle;\n",
       "    }\n",
       "\n",
       "    .dataframe tbody tr th {\n",
       "        vertical-align: top;\n",
       "    }\n",
       "\n",
       "    .dataframe thead th {\n",
       "        text-align: right;\n",
       "    }\n",
       "</style>\n",
       "<table border=\"1\" class=\"dataframe\">\n",
       "  <thead>\n",
       "    <tr style=\"text-align: right;\">\n",
       "      <th></th>\n",
       "      <th>generated_text</th>\n",
       "    </tr>\n",
       "  </thead>\n",
       "  <tbody>\n",
       "    <tr>\n",
       "      <th>0</th>\n",
       "      <td>Romeo and Juliet. Their parents' marriage. The...</td>\n",
       "    </tr>\n",
       "    <tr>\n",
       "      <th>1</th>\n",
       "      <td>Romeo is in Verona, by the hypothesis, p. 414;...</td>\n",
       "    </tr>\n",
       "    <tr>\n",
       "      <th>2</th>\n",
       "      <td>Juliette's history, and its consequences, by t...</td>\n",
       "    </tr>\n",
       "  </tbody>\n",
       "</table>\n",
       "</div>"
      ],
      "text/plain": [
       "                                      generated_text\n",
       "0  Romeo and Juliet. Their parents' marriage. The...\n",
       "1  Romeo is in Verona, by the hypothesis, p. 414;...\n",
       "2  Juliette's history, and its consequences, by t..."
      ]
     },
     "execution_count": 5,
     "metadata": {},
     "output_type": "execute_result"
    }
   ],
   "source": [
    "prediction"
   ]
  },
  {
   "cell_type": "code",
   "execution_count": 8,
   "id": "9ed0dab5-0f0e-4967-9617-f169f6744669",
   "metadata": {
    "tags": []
   },
   "outputs": [
    {
     "data": {
      "text/plain": [
       "\"Romeo and Juliet. Their parents' marriage. The betrothal of the respective heroines. Their ill-fated love. There are several other stories, likewise to be collected from ancient writers, which I do not now mention, but which I shall hereafter relate.\\n their mutual correspondence and correspondence with others. The true account of the death of Romeo and his father. The meeting of the widow and the other daughters in the country. The marriage of the widowed sister to Count Paris. Her letter to Count Paris, with the letter to Lady Montague. The letter to Lady Montague, with the supposed letter of Lady\""
      ]
     },
     "execution_count": 8,
     "metadata": {},
     "output_type": "execute_result"
    }
   ],
   "source": [
    "prediction['generated_text'][0]"
   ]
  },
  {
   "cell_type": "code",
   "execution_count": 6,
   "id": "0100e78a-5948-4569-bdeb-1b4ace67b3be",
   "metadata": {
    "tags": []
   },
   "outputs": [
    {
     "data": {
      "text/plain": [
       "'Romeo is in Verona, by the hypothesis, p. 414; and by the way of the place (as above, p. 405) from thence to Milan, by a right line drawn to a given point O on the coast of the ocean, described at last by a given angle; and thence, by a right line drawn to a given point n on the coast of the Mediterranean, described at last by an angle; and then a right line drawn from the same point n to the point p, described by another angle, and thus the place of the point p is always given; the place of the point of departure'"
      ]
     },
     "execution_count": 6,
     "metadata": {},
     "output_type": "execute_result"
    }
   ],
   "source": [
    "prediction['generated_text'][1]"
   ]
  },
  {
   "cell_type": "code",
   "execution_count": 7,
   "id": "b3c61d8b-768c-4ae3-9b88-9d32fa97ea26",
   "metadata": {
    "tags": []
   },
   "outputs": [
    {
     "data": {
      "text/plain": [
       "\"Juliette's history, and its consequences, by the way, from the beginning of the year 1735 to the end of the year 1749, were written up in a very small manuscript by some of her relations, for the amusement of themselves and their families. The first sheet was sent to M. Clairville, at Paris, with a request that something might be inserted in the Gazette Litteraire, and was refused; the next to M. de la Boulie, at Aix, where it was also refused; and the last to M. de Croussey, at La Chaux, with the same reply\""
      ]
     },
     "execution_count": 7,
     "metadata": {},
     "output_type": "execute_result"
    }
   ],
   "source": [
    "prediction['generated_text'][2]"
   ]
  },
  {
   "cell_type": "code",
   "execution_count": null,
   "id": "233fd032-d18f-47f4-a2bf-7edd8eaaca81",
   "metadata": {},
   "outputs": [],
   "source": []
  }
 ],
 "metadata": {
  "kernelspec": {
   "display_name": "Python 3 (ipykernel)",
   "language": "python",
   "name": "python3"
  },
  "language_info": {
   "codemirror_mode": {
    "name": "ipython",
    "version": 3
   },
   "file_extension": ".py",
   "mimetype": "text/x-python",
   "name": "python",
   "nbconvert_exporter": "python",
   "pygments_lexer": "ipython3",
   "version": "3.9.16"
  }
 },
 "nbformat": 4,
 "nbformat_minor": 5
}
